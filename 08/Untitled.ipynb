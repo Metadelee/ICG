{
 "cells": [
  {
   "cell_type": "code",
   "execution_count": 1,
   "metadata": {
    "collapsed": true
   },
   "outputs": [],
   "source": [
    "def line(p1, p2):\n",
    "    A = (p1[1] - p2[1])\n",
    "    B = (p2[0] - p1[0])\n",
    "    C = (p1[0]*p2[1] - p2[0]*p1[1])\n",
    "    return A, B, -C\n",
    "\n",
    "def intersection(L1, L2):\n",
    "    D  = L1[0] * L2[1] - L1[1] * L2[0]\n",
    "    Dx = L1[2] * L2[1] - L1[1] * L2[2]\n",
    "    Dy = L1[0] * L2[2] - L1[2] * L2[0]\n",
    "    if D != 0:\n",
    "        x = Dx / D\n",
    "        y = Dy / D\n",
    "        return x,y\n",
    "    else:\n",
    "        return False"
   ]
  },
  {
   "cell_type": "code",
   "execution_count": 6,
   "metadata": {
    "collapsed": false
   },
   "outputs": [
    {
     "name": "stdout",
     "output_type": "stream",
     "text": [
      "Intersection detected for  0 0 (-6.5, 1.0)\n",
      "Intersection detected for  0 1 (0.7, 1.0)\n",
      "Intersection detected for  0 2 (-0.5, 1.0)\n",
      "Intersection detected for  0 3 (-2.0, 1.0)\n",
      "Intersection detected for  1 0 (1.5, -1.0)\n",
      "Intersection detected for  1 1 (1.5, -1.0)\n",
      "Intersection detected for  1 2 (-4.5, -1.0)\n",
      "Intersection detected for  1 3 (0.0, -1.0)\n",
      "Intersection detected for  2 0 (1.0, -0.875)\n",
      "Intersection detected for  2 1 (1.0, 0.25)\n",
      "Intersection detected for  2 2 (1.0, 1.75)\n",
      "Intersection detected for  2 3 (1.0, -2.0)\n",
      "Intersection detected for  3 0 (-1.0, -0.375)\n",
      "Intersection detected for  3 1 (-1.0, 5.25)\n",
      "Intersection detected for  3 2 (-1.0, 0.75)\n",
      "Intersection detected for  3 3 (-1.0, -0.0)\n"
     ]
    }
   ],
   "source": [
    "p1 = [-0.5,-0.5]\n",
    "p2 = [1.5,-1]\n",
    "p3 = [0.5,1.5]\n",
    "p4 = [-1.5,0.5]\n",
    "\n",
    "top = line([1,1], [-1,1])\n",
    "bottom = line([-1,-1], [1,-1])\n",
    "left = line([-1,1], [-1,-1])\n",
    "right = line([1,1], [1,-1])\n",
    "p1p2 = line(p1,p2)\n",
    "p2p3 = line(p2,p3)\n",
    "p3p4 = line(p3,p4)\n",
    "p4p1 = line(p4,p1)\n",
    "\n",
    "square = [top,bottom,right,left]\n",
    "polygon = [p1p2,p2p3,p3p4,p4p1]\n",
    "\n",
    "for i in range(4):\n",
    "        for j in range(4):\n",
    "            R = intersection(polygon[j], square[i])\n",
    "            if R:\n",
    "                print \"Intersection detected for \",i,j, R\n"
   ]
  },
  {
   "cell_type": "code",
   "execution_count": null,
   "metadata": {
    "collapsed": true
   },
   "outputs": [],
   "source": []
  }
 ],
 "metadata": {
  "kernelspec": {
   "display_name": "Python 2",
   "language": "python",
   "name": "python2"
  },
  "language_info": {
   "codemirror_mode": {
    "name": "ipython",
    "version": 2
   },
   "file_extension": ".py",
   "mimetype": "text/x-python",
   "name": "python",
   "nbconvert_exporter": "python",
   "pygments_lexer": "ipython2",
   "version": "2.7.12"
  }
 },
 "nbformat": 4,
 "nbformat_minor": 0
}
