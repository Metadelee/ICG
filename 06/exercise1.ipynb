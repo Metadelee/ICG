{
 "cells": [
  {
   "cell_type": "code",
   "execution_count": 73,
   "metadata": {
    "collapsed": true
   },
   "outputs": [],
   "source": [
    "import numpy as np\n",
    "import matplotlib.pyplot as plt\n",
    "%matplotlib inline  "
   ]
  },
  {
   "cell_type": "code",
   "execution_count": 98,
   "metadata": {
    "collapsed": false
   },
   "outputs": [],
   "source": [
    "def F(x, y, x0, y0, x1, y1):\n",
    "    return y*(x1-x0)+x*(y0-y1)+y1*x0-y0*x1\n",
    "\n",
    "def Bresenham(x0, y0, x1, y1):\n",
    "    image = np.ones((y1+1,x1+1))\n",
    "    mirror = False\n",
    "    if (y1-y0)>(x1-x0):\n",
    "        mirror = True\n",
    "        x0, x1, y0, y1 = y0, y1, x0, x1\n",
    "        print(\"slope greater 1. So mirroring at diagonal.\")\n",
    "    \n",
    "    y = y0\n",
    "    d = F(x0+1, y0+0.5, x0, y0, x1, y1)\n",
    "    \n",
    "    for x in range(x0, x1+1):\n",
    "        if mirror == True:\n",
    "            print(\"Please set pixel\", y, x)\n",
    "            image[x,y]=0\n",
    "        else:\n",
    "            print(\"Please set pixel\", x, y)\n",
    "            image[y,x]=0\n",
    "        print(\"d is\", d)\n",
    "        if d<0:\n",
    "            y += 1\n",
    "            d += x1-x0 + y0-y1\n",
    "        else:\n",
    "            d += y0-y1\n",
    "    return image"
   ]
  },
  {
   "cell_type": "markdown",
   "metadata": {},
   "source": [
    "For the first line that has $(x_0, y_0) = (1,2)$ and $(x_1, y_1) = (5,3)$"
   ]
  },
  {
   "cell_type": "code",
   "execution_count": 149,
   "metadata": {
    "collapsed": false
   },
   "outputs": [
    {
     "name": "stdout",
     "output_type": "stream",
     "text": [
      "Please set pixel 1 2\n",
      "d is 1.0\n",
      "Please set pixel 2 2\n",
      "d is 0.0\n",
      "Please set pixel 3 2\n",
      "d is -1.0\n",
      "Please set pixel 4 3\n",
      "d is 2.0\n",
      "Please set pixel 5 3\n",
      "d is 1.0\n",
      "[[ 1.  1.  1.  1.  0.  0.]\n",
      " [ 1.  0.  0.  0.  1.  1.]\n",
      " [ 1.  1.  1.  1.  1.  1.]\n",
      " [ 1.  1.  1.  1.  1.  1.]]\n"
     ]
    },
    {
     "data": {
      "image/png": "[encoded data removed]",
      "text/plain": [
       "<matplotlib.figure.Figure at 0x1bf55fddd30>"
      ]
     },
     "metadata": {},
     "output_type": "display_data"
    }
   ],
   "source": [
    "image = Bresenham(1,2,5,3)\n",
    "plt.imshow(np.flipud(image), interpolation='none', cmap='gray');\n",
    "print(np.flipud(image))"
   ]
  },
  {
   "cell_type": "markdown",
   "metadata": {},
   "source": [
    "For the second that has $(x_0, y_0) = (2,1)$ and $(x_1, y_1) = (4,4)$"
   ]
  },
  {
   "cell_type": "code",
   "execution_count": 104,
   "metadata": {
    "collapsed": false
   },
   "outputs": [
    {
     "name": "stdout",
     "output_type": "stream",
     "text": [
      "slope greater 1. So mirroring at diagonal.\n",
      "Please set pixel 2 1\n",
      "d is -0.5\n",
      "Please set pixel 3 2\n",
      "d is 0.5\n",
      "Please set pixel 3 3\n",
      "d is -1.5\n",
      "Please set pixel 4 4\n",
      "d is -0.5\n",
      "[[ 1.  1.  1.  1.  0.]\n",
      " [ 1.  1.  1.  0.  1.]\n",
      " [ 1.  1.  1.  0.  1.]\n",
      " [ 1.  1.  0.  1.  1.]\n",
      " [ 1.  1.  1.  1.  1.]]\n"
     ]
    },
    {
     "data": {
      "image/png": "[encoded data removed]",
      "text/plain": [
       "<matplotlib.figure.Figure at 0x1bf54e619e8>"
      ]
     },
     "metadata": {},
     "output_type": "display_data"
    }
   ],
   "source": [
    "image = Bresenham(2,1,4,4)\n",
    "plt.imshow(np.flipud(image), interpolation='none', cmap='gray');\n",
    "print(np.flipud(image))"
   ]
  },
  {
   "cell_type": "code",
   "execution_count": 168,
   "metadata": {
    "collapsed": false
   },
   "outputs": [],
   "source": [
    "def Bresenham_antialias(x0, y0, x1, y1):\n",
    "    image = np.zeros((y1+1,x1+1))\n",
    "    mirror = False\n",
    "    if (y1-y0)>(x1-x0):\n",
    "        mirror = True\n",
    "        x0, x1, y0, y1 = y0, y1, x0, x1\n",
    "        print(\"slope greater 1. So mirroring at diagonal.\")\n",
    "    \n",
    "    y = y0\n",
    "    d = F(x0+1, y0+0.5, x0, y0, x1, y1)\n",
    "    \n",
    "    for x in range(x0, x1+1):\n",
    "        a = d/2\n",
    "        if x==x0 and y==y0:\n",
    "            if mirror == False:\n",
    "                print(\"Please set {},{}\".format(x,y))\n",
    "                image[y,x]=1\n",
    "            else:\n",
    "                print(\"Please set {},{}\".format(y,x))\n",
    "                image[x,y]=1\n",
    "        if x==x1:\n",
    "            if mirror == False:\n",
    "                print(\"Please set {},{}\".format(x,y))\n",
    "                image[y,x]=1\n",
    "                image[y-1,x]=0\n",
    "            else:\n",
    "                print(\"Please set {},{}\".format(y,x))\n",
    "                image[x,y]=1\n",
    "                image[x,y-1]=0\n",
    "            break\n",
    "        if d<0:\n",
    "            if a >= -0.5:\n",
    "                if mirror == True:\n",
    "                    print(\"Please set pixel1 {}, {} with {}\".format(y,x+1,0.5+a))\n",
    "                    image[x+1,y]=0.5+a\n",
    "                    print(\"Please set pixel2 {}, {} with {}\".format(y+1, x+1,0.5-a))\n",
    "                    image[x+1,y+1]= 0.5-a\n",
    "                else:\n",
    "                    print(\"Please set pixel1 {}, {} with {}\".format(x+1,y,0.5+a))\n",
    "                    image[y,x+1]=0.5+a\n",
    "                    print(\"Please set pixel2 {}, {} with {}\".format(x+1,y+1,0.5-a))\n",
    "                    image[y+1,x+1]= 0.5-a\n",
    "            else:\n",
    "                if a >= -0.5:\n",
    "                    if mirror == True:\n",
    "                        print(\"Please set pixel1 {}, {} with {}\".format(y+1,x+1,1.5+a))\n",
    "                        image[x+1,y+1]=1.5+a\n",
    "                        print(\"Please set pixel2 {}, {} with {}\".format(y+2, x+1,-0.5-a))\n",
    "                        image[x+1,y+2]=-0.5-a\n",
    "                    else:\n",
    "                        print(\"Please set pixel1 {}, {} with {}\".format(x+1,y+1,1.5+a))\n",
    "                        image[y+1,x+1]=1.5+a\n",
    "                        print(\"Please set pixel2 {}, {} with {}\".format(x+1,y+2,-0.5-a))\n",
    "                        image[y+2,x+1]=-0.5-a\n",
    "            y += 1\n",
    "            d += x1-x0 + y0-y1\n",
    "        else:\n",
    "            if a <= 0.5:\n",
    "                if mirror == True:\n",
    "                    print(\"Please set pixel1 {}, {} with {}\".format(y,x+1,0.5+a))\n",
    "                    image[x+1,y]=0.5+a\n",
    "                    print(\"Please set pixel2 {}, {} with {}\".format(y+1, x+1,0.5-a))\n",
    "                    image[x+1,y+1]=0.5-a\n",
    "                else:\n",
    "                    print(\"Please set pixel1 {}, {} with {}\".format(x+1,y,0.5+a))\n",
    "                    image[y,x+1]=0.5+a\n",
    "                    print(\"Please set pixel2 {}, {} with {}\".format(x+1,y+1,0.5-a))\n",
    "                    image[y+1,x+1]=0.5-a\n",
    "            else:\n",
    "                if a >= -0.5:\n",
    "                    if mirror == True:\n",
    "                        print(\"Please set pixel1 {}, {} with {}\".format(y,x+1,1.5-a))\n",
    "                        image[x+1,y]=1.5-a\n",
    "                        print(\"Please set pixel2 {}, {} with {}\".format(y-1, x+1,-0.5+a))\n",
    "                        image[x+1,y-1]=-0.5+a\n",
    "                    else:\n",
    "                        print(\"Please set pixel1 {}, {} with {}\".format(x+1,y,1.5-a))\n",
    "                        image[y,x+1]=1.5-a\n",
    "                        print(\"Please set pixel2 {}, {} with {}\".format(x+1,y-1,-0.5+a))\n",
    "                        image[y-1,x+1]=-0.5+a\n",
    "            d += y0-y1\n",
    "    return image"
   ]
  },
  {
   "cell_type": "code",
   "execution_count": 169,
   "metadata": {
    "collapsed": false
   },
   "outputs": [
    {
     "name": "stdout",
     "output_type": "stream",
     "text": [
      "Please set 1,2\n",
      "Please set pixel1 2, 2 with 1.0\n",
      "Please set pixel2 2, 3 with 0.0\n",
      "Please set pixel1 3, 2 with 0.5\n",
      "Please set pixel2 3, 3 with 0.5\n",
      "Please set pixel1 4, 2 with 0.0\n",
      "Please set pixel2 4, 3 with 1.0\n",
      "Please set pixel1 5, 3 with 0.5\n",
      "Please set pixel2 5, 2 with 0.5\n",
      "Please set 5,3\n",
      "[[ 0.   0.   0.   0.5  1.   1. ]\n",
      " [ 0.   1.   1.   0.5  0.   0. ]\n",
      " [ 0.   0.   0.   0.   0.   0. ]\n",
      " [ 0.   0.   0.   0.   0.   0. ]]\n"
     ]
    },
    {
     "data": {
      "image/png": "[encoded data removed]",
      "text/plain": [
       "<matplotlib.figure.Figure at 0x1bf54e67470>"
      ]
     },
     "metadata": {},
     "output_type": "display_data"
    }
   ],
   "source": [
    "image = Bresenham_antialias(1,2,5,3)\n",
    "plt.imshow(np.flipud(image), interpolation='none', cmap='gray_r');\n",
    "print(np.flipud(image))"
   ]
  },
  {
   "cell_type": "code",
   "execution_count": 170,
   "metadata": {
    "collapsed": false
   },
   "outputs": [
    {
     "name": "stdout",
     "output_type": "stream",
     "text": [
      "slope greater 1. So mirroring at diagonal.\n",
      "Please set 2,1\n",
      "Please set pixel1 2, 2 with 0.25\n",
      "Please set pixel2 3, 2 with 0.75\n",
      "Please set pixel1 3, 3 with 0.75\n",
      "Please set pixel2 4, 3 with 0.25\n",
      "Please set 4,4\n",
      "[[ 0.    0.    0.    0.    1.  ]\n",
      " [ 0.    0.    0.    0.75  0.25]\n",
      " [ 0.    0.    0.25  0.75  0.  ]\n",
      " [ 0.    0.    1.    0.    0.  ]\n",
      " [ 0.    0.    0.    0.    0.  ]]\n"
     ]
    },
    {
     "data": {
      "image/png": "[encoded data removed]",
      "text/plain": [
       "<matplotlib.figure.Figure at 0x1bf54d6f9b0>"
      ]
     },
     "metadata": {},
     "output_type": "display_data"
    }
   ],
   "source": [
    "image = Bresenham_antialias(2,1,4,4)\n",
    "plt.imshow(np.flipud(image), interpolation='none', cmap='gray_r');\n",
    "print(np.flipud(image))"
   ]
  }
 ],
 "metadata": {
  "anaconda-cloud": {},
  "kernelspec": {
   "display_name": "Python [Root]",
   "language": "python",
   "name": "Python [Root]"
  },
  "language_info": {
   "codemirror_mode": {
    "name": "ipython",
    "version": 3
   },
   "file_extension": ".py",
   "mimetype": "text/x-python",
   "name": "python",
   "nbconvert_exporter": "python",
   "pygments_lexer": "ipython3",
   "version": "3.5.2"
  }
 },
 "nbformat": 4,
 "nbformat_minor": 0
}
